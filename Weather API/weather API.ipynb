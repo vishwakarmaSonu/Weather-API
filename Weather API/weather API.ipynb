{
 "cells": [
  {
   "cell_type": "code",
   "execution_count": 1,
   "id": "c92ca9e0",
   "metadata": {},
   "outputs": [],
   "source": [
    "import requests\n"
   ]
  },
  {
   "cell_type": "code",
   "execution_count": 2,
   "id": "2e8e10b1",
   "metadata": {},
   "outputs": [],
   "source": [
    "def fun(city):\n",
    "    base_url =\"http://api.openweathermap.org/data/2.5/weather?\"\n",
    "    API_KEY= open('api_key' ,'r').read()\n",
    "    url = base_url+\"appid=\" +API_KEY +\"&q=\"+city\n",
    "    data = requests.get(url).json()\n",
    "    return data['weather'][0]['description']\n",
    "    "
   ]
  },
  {
   "cell_type": "code",
   "execution_count": null,
   "id": "bce77459",
   "metadata": {},
   "outputs": [
    {
     "name": "stdout",
     "output_type": "stream",
     "text": [
      "Enter city to know the current weather: london\n",
      "london\n",
      "broken clouds\n",
      "----------------------------------------\n",
      "Enter city to know the current weather: jaipur\n",
      "jaipur\n",
      "haze\n",
      "----------------------------------------\n",
      "Enter city to know the current weather: jodhpur\n",
      "jodhpur\n",
      "overcast clouds\n",
      "----------------------------------------\n",
      "Enter city to know the current weather: xyz\n",
      "xyz\n",
      "Error: 'weather'\n",
      "----------------------------------------\n",
      "Enter city to know the current weather: goa\n",
      "goa\n",
      "overcast clouds\n",
      "----------------------------------------\n"
     ]
    }
   ],
   "source": [
    "while True:\n",
    "        city = input(\"Enter city to know the current weather: \")\n",
    "        if city.lower() == 'exit':\n",
    "            break\n",
    "        try:\n",
    "            print(city)\n",
    "            print(fun(city))\n",
    "        except Exception as e:\n",
    "            print(\"Error:\", e)\n",
    "        print('--' * 20)"
   ]
  },
  {
   "cell_type": "code",
   "execution_count": null,
   "id": "b988b364",
   "metadata": {},
   "outputs": [],
   "source": []
  }
 ],
 "metadata": {
  "kernelspec": {
   "display_name": "Python 3 (ipykernel)",
   "language": "python",
   "name": "python3"
  },
  "language_info": {
   "codemirror_mode": {
    "name": "ipython",
    "version": 3
   },
   "file_extension": ".py",
   "mimetype": "text/x-python",
   "name": "python",
   "nbconvert_exporter": "python",
   "pygments_lexer": "ipython3",
   "version": "3.8.3"
  }
 },
 "nbformat": 4,
 "nbformat_minor": 5
}
